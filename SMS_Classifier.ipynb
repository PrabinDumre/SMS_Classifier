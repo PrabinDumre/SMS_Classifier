{
  "nbformat": 4,
  "nbformat_minor": 0,
  "metadata": {
    "colab": {
      "provenance": []
    },
    "kernelspec": {
      "name": "python3",
      "display_name": "Python 3"
    },
    "language_info": {
      "name": "python"
    }
  },
  "cells": [
    {
      "cell_type": "markdown",
      "source": [
        "# SMS Classifier"
      ],
      "metadata": {
        "id": "yNgbClwm275G"
      }
    },
    {
      "cell_type": "markdown",
      "source": [
        "**Import Libraries**"
      ],
      "metadata": {
        "id": "siOJwlsAvduh"
      }
    },
    {
      "cell_type": "code",
      "execution_count": 33,
      "metadata": {
        "id": "TXWWpdkdvSbk"
      },
      "outputs": [],
      "source": [
        "import os\n",
        "import numpy as np\n",
        "import pandas as pd\n",
        "import matplotlib.pyplot as plt\n",
        "# From Sklearn\n",
        "from sklearn.feature_extraction.text import CountVectorizer\n",
        "from sklearn.feature_extraction.text import TfidfTransformer\n",
        "from sklearn.metrics import accuracy_score, classification_report,ConfusionMatrixDisplay\n",
        "from sklearn.model_selection import train_test_split\n",
        "from sklearn.preprocessing import StandardScaler\n",
        "from sklearn.naive_bayes import MultinomialNB\n",
        "from sklearn.svm import LinearSVC\n",
        "from sklearn.tree import DecisionTreeClassifier, plot_tree"
      ]
    },
    {
      "cell_type": "markdown",
      "source": [
        "**Load and Preprocess Data**"
      ],
      "metadata": {
        "id": "1jd6DWCEvsfg"
      }
    },
    {
      "cell_type": "code",
      "source": [
        "!curl \"https://raw.githubusercontent.com/RebuniTech/Sms_SPam-detection/main/sms_dataset.tsv\" --output sms_dataset.tsv\n",
        "df = pd.read_csv('sms_dataset.tsv', sep='\\t')\n",
        "print(\"Total Dataset:\", len(df))\n",
        "\n",
        "X = df.message # X_feature\n",
        "y = df.label # y_label\n",
        "\n",
        "X_train, X_test, y_train, y_test = train_test_split(X, y, test_size=0.2, random_state=42)"
      ],
      "metadata": {
        "colab": {
          "base_uri": "https://localhost:8080/"
        },
        "id": "ue7xmALLvoGf",
        "outputId": "cdd339f8-2253-4717-d8fc-4c50ca3ee18f"
      },
      "execution_count": 16,
      "outputs": [
        {
          "output_type": "stream",
          "name": "stdout",
          "text": [
            "  % Total    % Received % Xferd  Average Speed   Time    Time     Time  Current\n",
            "                                 Dload  Upload   Total   Spent    Left  Speed\n",
            "\r  0     0    0     0    0     0      0      0 --:--:-- --:--:-- --:--:--     0\r100  501k  100  501k    0     0  2548k      0 --:--:-- --:--:-- --:--:-- 2560k\n",
            "Total Dataset: 5572\n"
          ]
        }
      ]
    },
    {
      "cell_type": "markdown",
      "source": [
        "**Checking for null values**"
      ],
      "metadata": {
        "id": "CqDY33QU0WfH"
      }
    },
    {
      "cell_type": "code",
      "source": [
        "df.isna().sum()"
      ],
      "metadata": {
        "colab": {
          "base_uri": "https://localhost:8080/"
        },
        "id": "2rA0buWKzy2h",
        "outputId": "663d6b73-1d37-4cab-a335-3a808b70deac"
      },
      "execution_count": 17,
      "outputs": [
        {
          "output_type": "execute_result",
          "data": {
            "text/plain": [
              "label      0\n",
              "message    0\n",
              "length     0\n",
              "punct      0\n",
              "dtype: int64"
            ]
          },
          "metadata": {},
          "execution_count": 17
        }
      ]
    },
    {
      "cell_type": "markdown",
      "source": [
        "**Analysing number of data in dataset by plot**"
      ],
      "metadata": {
        "id": "KR8LDfGG0cS2"
      }
    },
    {
      "cell_type": "code",
      "source": [
        "#plt.figure(, dpi=75)\n",
        "df.label.value_counts().plot(kind='pie', figsize=(10, 3))\n",
        "plt.title('Value Counts')\n",
        "plt.xlabel('')\n",
        "plt.ylabel('')\n",
        "plt.show()"
      ],
      "metadata": {
        "colab": {
          "base_uri": "https://localhost:8080/",
          "height": 290
        },
        "id": "knd0uY_nz1FF",
        "outputId": "e269a956-dff4-4a51-d4b5-0c33502c8f0d"
      },
      "execution_count": 18,
      "outputs": [
        {
          "output_type": "display_data",
          "data": {
            "text/plain": [
              "<Figure size 1000x300 with 1 Axes>"
            ],
            "image/png": "[encoded data removed]"
          },
          "metadata": {}
        }
      ]
    },
    {
      "cell_type": "code",
      "source": [
        "#Using Naive Bayes\n",
        "count_vectorizer = CountVectorizer()\n",
        "tfidf_transformer = TfidfTransformer()\n",
        "\n",
        "count_vectorizer.fit(X_train)\n",
        "X_train_cv = count_vectorizer.transform(X_train)\n",
        "tfidf_transformer.fit(X_train_cv)\n",
        "X_train_tfidf = tfidf_transformer.transform(X_train_cv)\n",
        "\n",
        "X_test_cv = count_vectorizer.transform(X_test)\n",
        "X_test_tfidf = tfidf_transformer.transform(X_test_cv)"
      ],
      "metadata": {
        "id": "F7n_JD0xz4-R"
      },
      "execution_count": 19,
      "outputs": []
    },
    {
      "cell_type": "markdown",
      "source": [
        "**Text Vectorization**"
      ],
      "metadata": {
        "id": "zaQuiuRHvzPw"
      }
    },
    {
      "cell_type": "code",
      "source": [
        "vectorizer = CountVectorizer()\n",
        "X_train_vectorized = vectorizer.fit_transform(X_train)\n",
        "X_test_vectorized = vectorizer.transform(X_test)\n"
      ],
      "metadata": {
        "id": "YWvNkxKDvv-P"
      },
      "execution_count": 20,
      "outputs": []
    },
    {
      "cell_type": "markdown",
      "source": [
        "**Model Implementation**"
      ],
      "metadata": {
        "id": "lGAmb0oJv40K"
      }
    },
    {
      "cell_type": "code",
      "source": [
        "naiv_bayes = MultinomialNB()\n",
        "naiv_bayes.fit(X_train_tfidf, y_train)\n",
        "\n",
        "prediction = naiv_bayes.predict(X_test_tfidf)\n"
      ],
      "metadata": {
        "id": "JlixVCrqv1nz"
      },
      "execution_count": 24,
      "outputs": []
    },
    {
      "cell_type": "markdown",
      "source": [
        "**Model Evaluation**"
      ],
      "metadata": {
        "id": "ltfAjOhGv-kR"
      }
    },
    {
      "cell_type": "code",
      "source": [
        "\n",
        "print(classification_report(y_test, prediction))\n",
        "\n",
        "ConfusionMatrixDisplay.from_estimator(naiv_bayes, X_test_tfidf, y_test)\n",
        "plt.show()"
      ],
      "metadata": {
        "colab": {
          "base_uri": "https://localhost:8080/",
          "height": 605
        },
        "id": "NkDcLbMpv4Nx",
        "outputId": "8a539d8f-7a25-47c6-9432-33b7c0af1ef9"
      },
      "execution_count": 23,
      "outputs": [
        {
          "output_type": "stream",
          "name": "stdout",
          "text": [
            "              precision    recall  f1-score   support\n",
            "\n",
            "         ham       0.96      1.00      0.98       966\n",
            "        spam       1.00      0.75      0.86       149\n",
            "\n",
            "    accuracy                           0.97      1115\n",
            "   macro avg       0.98      0.88      0.92      1115\n",
            "weighted avg       0.97      0.97      0.96      1115\n",
            "\n"
          ]
        },
        {
          "output_type": "display_data",
          "data": {
            "text/plain": [
              "<Figure size 640x480 with 2 Axes>"
            ],
            "image/png": "[encoded data removed]"
          },
          "metadata": {}
        }
      ]
    },
    {
      "cell_type": "markdown",
      "source": [
        "**Using Decision Tree**"
      ],
      "metadata": {
        "id": "ToLQ2PlN0wuo"
      }
    },
    {
      "cell_type": "code",
      "source": [
        "dt_cls = DecisionTreeClassifier()\n",
        "dt_cls.fit(X_train_tfidf, y_train)\n",
        "prediction = dt_cls.predict(X_test_tfidf)\n",
        "ConfusionMatrixDisplay.from_estimator(dt_cls, X_test_tfidf, y_test)\n",
        "plt.show()"
      ],
      "metadata": {
        "id": "mffqACMUwDcw",
        "colab": {
          "base_uri": "https://localhost:8080/",
          "height": 449
        },
        "outputId": "2eaa33bd-2300-4418-a7bb-be2183c33678"
      },
      "execution_count": 25,
      "outputs": [
        {
          "output_type": "display_data",
          "data": {
            "text/plain": [
              "<Figure size 640x480 with 2 Axes>"
            ],
            "image/png": "[encoded data removed]"
          },
          "metadata": {}
        }
      ]
    },
    {
      "cell_type": "markdown",
      "source": [
        "**Model Evaluation**"
      ],
      "metadata": {
        "id": "Or4qpoOU2nu-"
      }
    },
    {
      "cell_type": "code",
      "source": [
        "print(classification_report(y_test, prediction))\n",
        "print(\"Accuracy: \", accuracy_score(y_test, prediction))"
      ],
      "metadata": {
        "colab": {
          "base_uri": "https://localhost:8080/"
        },
        "id": "S8GAC6wf0wPS",
        "outputId": "616bf4f2-2c0c-470c-a053-506625f0f45a"
      },
      "execution_count": 32,
      "outputs": [
        {
          "output_type": "stream",
          "name": "stdout",
          "text": [
            "              precision    recall  f1-score   support\n",
            "\n",
            "         ham       0.99      1.00      1.00       966\n",
            "        spam       0.99      0.95      0.97       149\n",
            "\n",
            "    accuracy                           0.99      1115\n",
            "   macro avg       0.99      0.98      0.98      1115\n",
            "weighted avg       0.99      0.99      0.99      1115\n",
            "\n",
            "Accuracy:  0.9919282511210762\n"
          ]
        }
      ]
    },
    {
      "cell_type": "code",
      "source": [
        "# Using Linear SVC\n",
        "\n",
        "lsvc = LinearSVC()\n",
        "svc = lsvc.fit(X_train_tfidf, y_train)\n",
        "prediction = lsvc.predict(X_test_tfidf)\n",
        "ConfusionMatrixDisplay.from_estimator(lsvc, X_test_tfidf, y_test)\n",
        "plt.show()"
      ],
      "metadata": {
        "colab": {
          "base_uri": "https://localhost:8080/",
          "height": 449
        },
        "id": "3THEmBlN03Ez",
        "outputId": "5c6b3884-dbba-4b3e-f7e9-491ded82478f"
      },
      "execution_count": 27,
      "outputs": [
        {
          "output_type": "display_data",
          "data": {
            "text/plain": [
              "<Figure size 640x480 with 2 Axes>"
            ],
            "image/png": "[encoded data removed]"
          },
          "metadata": {}
        }
      ]
    },
    {
      "cell_type": "markdown",
      "source": [
        "**Model Evaluation**"
      ],
      "metadata": {
        "id": "ACsYWwLX2pWm"
      }
    },
    {
      "cell_type": "code",
      "source": [
        "print(classification_report(y_test, prediction))\n",
        "print(\"Accuracy: \", accuracy_score(y_test, prediction))"
      ],
      "metadata": {
        "colab": {
          "base_uri": "https://localhost:8080/"
        },
        "id": "RBuD3p7304-9",
        "outputId": "96fd0ca2-2a7e-4c65-d04f-14b1aa0775f2"
      },
      "execution_count": 31,
      "outputs": [
        {
          "output_type": "stream",
          "name": "stdout",
          "text": [
            "              precision    recall  f1-score   support\n",
            "\n",
            "         ham       0.99      1.00      1.00       966\n",
            "        spam       0.99      0.95      0.97       149\n",
            "\n",
            "    accuracy                           0.99      1115\n",
            "   macro avg       0.99      0.98      0.98      1115\n",
            "weighted avg       0.99      0.99      0.99      1115\n",
            "\n",
            "Accuracy:  0.9919282511210762\n"
          ]
        }
      ]
    },
    {
      "cell_type": "code",
      "source": [],
      "metadata": {
        "id": "eBhPjzDy3Vp9"
      },
      "execution_count": null,
      "outputs": []
    }
  ]
}